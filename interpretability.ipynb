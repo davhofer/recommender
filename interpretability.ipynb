{
 "cells": [
  {
   "cell_type": "code",
   "execution_count": 1,
   "metadata": {},
   "outputs": [],
   "source": [
    "import pandas as pd\n",
    "import numpy as np \n",
    "\n",
    "\n",
    "DATA_DIR = '/content/gdrive/MyDrive/data' \n",
    "DATA_DIR = '../data'\n",
    "STUDY_DIR = DATA_DIR + '/study'\n",
    "\n",
    "users = pd.read_csv(f'{DATA_DIR}/users.csv.gz')\n",
    "topics = pd.read_csv(f'{DATA_DIR}/topics_translated.csv')\n",
    "documents = pd.read_csv(f'{DATA_DIR}/documents.csv.gz')\n",
    "\n",
    "# use study for less data, for testing\n",
    "events = pd.read_csv(f'{DATA_DIR}/events.csv.gz')\n",
    "transactions = pd.read_csv(f'{DATA_DIR}/transactions.csv.gz')\n",
    "\n",
    "topic_trees = pd.read_csv(f'{DATA_DIR}/topic_trees.csv.gz')"
   ]
  },
  {
   "cell_type": "code",
   "execution_count": 2,
   "metadata": {},
   "outputs": [],
   "source": [
    "from data import preprocess_events\n",
    "\n",
    "events_preprocessed = preprocess_events(events, topics)\n",
    "events_preprocessed_only_math = events_preprocessed[events_preprocessed['is_math'] == 1]\n",
    "events_preprocessed_only_german = events_preprocessed[events_preprocessed['is_math'] == 0]"
   ]
  },
  {
   "cell_type": "code",
   "execution_count": 3,
   "metadata": {},
   "outputs": [
    {
     "name": "stderr",
     "output_type": "stream",
     "text": [
      "/tmp/ipykernel_4704/1305080819.py:12: FutureWarning: The frame.append method is deprecated and will be removed from pandas in a future version. Use pandas.concat instead.\n",
      "  topic_trees = topic_trees.append(math_row, ignore_index=True)\n",
      "/tmp/ipykernel_4704/1305080819.py:13: FutureWarning: The frame.append method is deprecated and will be removed from pandas in a future version. Use pandas.concat instead.\n",
      "  topic_trees = topic_trees.append(german_row, ignore_index=True)\n"
     ]
    }
   ],
   "source": [
    "import matplotlib.pyplot as plt\n",
    "import networkx as nx\n",
    "\n",
    "math_topics = set(topics[topics['math']==1]['id'])\n",
    "german_topics = set(topics[topics['math']==0]['id'])\n",
    "\n",
    "topic_trees = topic_trees[~topic_trees['parent_id'].isna()]\n",
    "\n",
    "german_row = {'topic_id':0, 'parent_id':0, 'child_id':1, 'sibling_rank':0, 'displayed_on_dashboard': 0}\n",
    "math_row = {'topic_id':1, 'parent_id':0, 'child_id':109, 'sibling_rank':0, 'displayed_on_dashboard': 0}\n",
    "\n",
    "topic_trees = topic_trees.append(math_row, ignore_index=True)\n",
    "topic_trees = topic_trees.append(german_row, ignore_index=True)\n",
    "\n",
    "math_topic_tree = topic_trees[(topic_trees['parent_id'].isin(math_topics)) | (topic_trees['child_id'].isin(math_topics))]\n",
    "german_topic_tree = topic_trees[(topic_trees['parent_id'].isin(german_topics)) | (topic_trees['child_id'].isin(german_topics))]\n",
    "\n",
    "\n",
    "# def draw_topic_tree(topic_tree, title, node_color, figsize):\n",
    "#   G = nx.from_pandas_edgelist(topic_tree, source='child_id', target='parent_id', edge_attr=['topic_id'])\n",
    "#   plt.figure(figsize=figsize)\n",
    "#   options = {\"edge_color\": \"tab:gray\", \"node_color\": node_color, \"node_size\": 100, \"alpha\": 0.8, \"font_size\": 7}\n",
    "#   nx.draw_networkx(G, pos=nx.spring_layout(G), **options)\n",
    "#   plt.title(title)\n",
    "#   plt.show()\n",
    "\n",
    "# draw_topic_tree(german_topic_tree, \"Math topic tree\", 'tab:red', (13, 12))\n",
    "\n",
    "\n",
    "G = nx.from_pandas_edgelist(topic_trees, source='child_id', target='parent_id', edge_attr=['topic_id'])\n",
    "\n",
    "PATHS = dict(nx.all_pairs_shortest_path_length(G, 20))"
   ]
  },
  {
   "attachments": {},
   "cell_type": "markdown",
   "metadata": {},
   "source": [
    "# Train the math model"
   ]
  },
  {
   "cell_type": "code",
   "execution_count": 4,
   "metadata": {},
   "outputs": [
    {
     "name": "stdout",
     "output_type": "stream",
     "text": [
      "tables loaded.\n"
     ]
    },
    {
     "name": "stderr",
     "output_type": "stream",
     "text": [
      "/home/david/ETH/recommender/data.py:87: SettingWithCopyWarning: \n",
      "A value is trying to be set on a copy of a slice from a DataFrame.\n",
      "Try using .loc[row_indexer,col_indexer] = value instead\n",
      "\n",
      "See the caveats in the documentation: https://pandas.pydata.org/pandas-docs/stable/user_guide/indexing.html#returning-a-view-versus-a-copy\n",
      "  df[col_name] = df.apply(get_val, axis=1)\n"
     ]
    },
    {
     "name": "stdout",
     "output_type": "stream",
     "text": [
      "Sampled initial validation and test interactions\n",
      "Completed test dataset\n",
      "Completed validation dataset\n",
      "Completed train dataset\n",
      "Adding features...\n"
     ]
    }
   ],
   "source": [
    "from ncf_pipeline import create_datasplitter, run_model\n",
    "math_ids = []\n",
    "german_ids = []\n",
    "\n",
    "# create data\n",
    "math = True \n",
    "german = False \n",
    "features = True\n",
    "data_math_withFeatures = create_datasplitter(math, german, features, users, topics, documents, events, transactions)\n",
    "math_ids = data_math_withFeatures.get_topic_ids()\n",
    "\n",
    "\n",
    "\n",
    "\n"
   ]
  },
  {
   "cell_type": "code",
   "execution_count": 5,
   "metadata": {},
   "outputs": [
    {
     "name": "stderr",
     "output_type": "stream",
     "text": [
      "/home/david/anaconda3/envs/mlbd/lib/python3.11/site-packages/pytorch_lightning/utilities/parsing.py:197: UserWarning: Attribute 'loss' is an instance of `nn.Module` and is already saved during checkpointing. It is recommended to ignore them using `self.save_hyperparameters(ignore=['loss'])`.\n",
      "  rank_zero_warn(\n",
      "GPU available: True (cuda), used: True\n",
      "TPU available: False, using: 0 TPU cores\n",
      "IPU available: False, using: 0 IPUs\n",
      "HPU available: False, using: 0 HPUs\n"
     ]
    },
    {
     "name": "stdout",
     "output_type": "stream",
     "text": [
      "intermediate layer size (concatenated): 325\n"
     ]
    },
    {
     "name": "stderr",
     "output_type": "stream",
     "text": [
      "/home/david/anaconda3/envs/mlbd/lib/python3.11/site-packages/pytorch_lightning/trainer/connectors/logger_connector/logger_connector.py:67: UserWarning: Starting from v1.9.0, `tensorboardX` has been removed as a dependency of the `pytorch_lightning` package, due to potential conflicts with other packages in the ML ecosystem. For this reason, `logger=True` will use `CSVLogger` as the default logger, unless the `tensorboard` or `tensorboardX` packages are found. Please `pip install lightning[extra]` or one of them to enable TensorBoard support by default\n",
      "  warning_cache.warn(\n",
      "LOCAL_RANK: 0 - CUDA_VISIBLE_DEVICES: [0]\n",
      "\n",
      "  | Name                    | Type       | Params\n",
      "-------------------------------------------------------\n",
      "0 | student_embedding_layer | Embedding  | 3.1 M \n",
      "1 | topic_embedding_layer   | Embedding  | 5.6 K \n",
      "2 | user_embed_MLP          | Sequential | 278 K \n",
      "3 | user_feature_MLP        | Sequential | 82    \n",
      "4 | topic_embed_MLP         | Sequential | 17.6 K\n",
      "5 | topic_feature_MLP       | Sequential | 5     \n",
      "6 | network                 | Sequential | 89.7 K\n",
      "7 | loss                    | BCELoss    | 0     \n",
      "-------------------------------------------------------\n",
      "3.5 M     Trainable params\n",
      "0         Non-trainable params\n",
      "3.5 M     Total params\n",
      "14.127    Total estimated model params size (MB)\n"
     ]
    },
    {
     "name": "stdout",
     "output_type": "stream",
     "text": [
      "Sanity Checking DataLoader 0:   0%|          | 0/2 [00:00<?, ?it/s]"
     ]
    },
    {
     "name": "stderr",
     "output_type": "stream",
     "text": [
      "/home/david/anaconda3/envs/mlbd/lib/python3.11/site-packages/pytorch_lightning/trainer/connectors/data_connector.py:430: PossibleUserWarning: The dataloader, val_dataloader, does not have many workers which may be a bottleneck. Consider increasing the value of the `num_workers` argument` (try 16 which is the number of cpus on this machine) in the `DataLoader` init to improve performance.\n",
      "  rank_zero_warn(\n"
     ]
    },
    {
     "name": "stdout",
     "output_type": "stream",
     "text": [
      "Sanity Checking DataLoader 0: 100%|██████████| 2/2 [00:00<00:00,  9.20it/s]HitRate@10 0.25\n",
      "NDCG@10 0.10766913951834826\n",
      "MRR@10 0.0625\n",
      "                                                                           "
     ]
    },
    {
     "name": "stderr",
     "output_type": "stream",
     "text": [
      "/home/david/ETH/recommender/evaluation.py:13: FutureWarning: In a future version of pandas, a length 1 tuple will be returned when iterating over a groupby with a grouper equal to a list of length 1. Don't supply a list with a single grouper to avoid this warning.\n",
      "  for user, topic in user_predict:\n",
      "/home/david/anaconda3/envs/mlbd/lib/python3.11/site-packages/pytorch_lightning/trainer/connectors/data_connector.py:430: PossibleUserWarning: The dataloader, train_dataloader, does not have many workers which may be a bottleneck. Consider increasing the value of the `num_workers` argument` (try 16 which is the number of cpus on this machine) in the `DataLoader` init to improve performance.\n",
      "  rank_zero_warn(\n"
     ]
    },
    {
     "name": "stdout",
     "output_type": "stream",
     "text": [
      "Epoch 0: 100%|██████████| 1092/1092 [00:07<00:00, 144.87it/s, v_num=43, train_loss_step=0.292]"
     ]
    },
    {
     "name": "stderr",
     "output_type": "stream",
     "text": [
      "/home/david/ETH/recommender/evaluation.py:13: FutureWarning: In a future version of pandas, a length 1 tuple will be returned when iterating over a groupby with a grouper equal to a list of length 1. Don't supply a list with a single grouper to avoid this warning.\n",
      "  for user, topic in user_predict:\n"
     ]
    },
    {
     "name": "stdout",
     "output_type": "stream",
     "text": [
      "HitRate@10 0.5418933623503809\n",
      "NDCG@10 0.30856084570016823\n",
      "MRR@10 0.2381638945023058\n",
      "Epoch 0: 100%|██████████| 1092/1092 [00:11<00:00, 95.41it/s, v_num=43, train_loss_step=0.292, val_loss=0.350, train_loss_epoch=0.491]"
     ]
    },
    {
     "name": "stderr",
     "output_type": "stream",
     "text": [
      "Metric val_loss improved. New best score: 0.350\n"
     ]
    },
    {
     "name": "stdout",
     "output_type": "stream",
     "text": [
      "Epoch 1: 100%|██████████| 1092/1092 [00:07<00:00, 144.11it/s, v_num=43, train_loss_step=0.403, val_loss=0.350, train_loss_epoch=0.491]"
     ]
    },
    {
     "name": "stderr",
     "output_type": "stream",
     "text": [
      "/home/david/ETH/recommender/evaluation.py:13: FutureWarning: In a future version of pandas, a length 1 tuple will be returned when iterating over a groupby with a grouper equal to a list of length 1. Don't supply a list with a single grouper to avoid this warning.\n",
      "  for user, topic in user_predict:\n"
     ]
    },
    {
     "name": "stdout",
     "output_type": "stream",
     "text": [
      "HitRate@10 0.5680087051142546\n",
      "NDCG@10 0.32887837101978845\n",
      "MRR@10 0.25613287389674766\n",
      "Epoch 1: 100%|██████████| 1092/1092 [00:11<00:00, 95.48it/s, v_num=43, train_loss_step=0.403, val_loss=0.280, train_loss_epoch=0.435] "
     ]
    },
    {
     "name": "stderr",
     "output_type": "stream",
     "text": [
      "Metric val_loss improved by 0.070 >= min_delta = 0.0. New best score: 0.280\n"
     ]
    },
    {
     "name": "stdout",
     "output_type": "stream",
     "text": [
      "Epoch 2: 100%|██████████| 1092/1092 [00:07<00:00, 144.04it/s, v_num=43, train_loss_step=0.586, val_loss=0.280, train_loss_epoch=0.435]"
     ]
    },
    {
     "name": "stderr",
     "output_type": "stream",
     "text": [
      "/home/david/ETH/recommender/evaluation.py:13: FutureWarning: In a future version of pandas, a length 1 tuple will be returned when iterating over a groupby with a grouper equal to a list of length 1. Don't supply a list with a single grouper to avoid this warning.\n",
      "  for user, topic in user_predict:\n"
     ]
    },
    {
     "name": "stdout",
     "output_type": "stream",
     "text": [
      "HitRate@10 0.5952121871599565\n",
      "NDCG@10 0.3393228675369334\n",
      "MRR@10 0.26207445981657085\n",
      "Epoch 3: 100%|██████████| 1092/1092 [00:07<00:00, 142.36it/s, v_num=43, train_loss_step=0.297, val_loss=0.293, train_loss_epoch=0.391]"
     ]
    },
    {
     "name": "stderr",
     "output_type": "stream",
     "text": [
      "/home/david/ETH/recommender/evaluation.py:13: FutureWarning: In a future version of pandas, a length 1 tuple will be returned when iterating over a groupby with a grouper equal to a list of length 1. Don't supply a list with a single grouper to avoid this warning.\n",
      "  for user, topic in user_predict:\n"
     ]
    },
    {
     "name": "stdout",
     "output_type": "stream",
     "text": [
      "HitRate@10 0.6126224156692056\n",
      "NDCG@10 0.33473756439344304\n",
      "MRR@10 0.25203853394821835\n",
      "Epoch 4: 100%|██████████| 1092/1092 [00:07<00:00, 141.73it/s, v_num=43, train_loss_step=0.407, val_loss=0.346, train_loss_epoch=0.360]"
     ]
    },
    {
     "name": "stderr",
     "output_type": "stream",
     "text": [
      "/home/david/ETH/recommender/evaluation.py:13: FutureWarning: In a future version of pandas, a length 1 tuple will be returned when iterating over a groupby with a grouper equal to a list of length 1. Don't supply a list with a single grouper to avoid this warning.\n",
      "  for user, topic in user_predict:\n"
     ]
    },
    {
     "name": "stdout",
     "output_type": "stream",
     "text": [
      "HitRate@10 0.6060935799782372\n",
      "NDCG@10 0.3475351392147561\n",
      "MRR@10 0.2698512012712231\n",
      "Epoch 4: 100%|██████████| 1092/1092 [00:11<00:00, 93.83it/s, v_num=43, train_loss_step=0.407, val_loss=0.300, train_loss_epoch=0.336] "
     ]
    },
    {
     "name": "stderr",
     "output_type": "stream",
     "text": [
      "Monitored metric val_loss did not improve in the last 3 records. Best score: 0.280. Signaling Trainer to stop.\n"
     ]
    },
    {
     "name": "stdout",
     "output_type": "stream",
     "text": [
      "Epoch 4: 100%|██████████| 1092/1092 [00:11<00:00, 93.34it/s, v_num=43, train_loss_step=0.407, val_loss=0.300, train_loss_epoch=0.336]"
     ]
    },
    {
     "name": "stderr",
     "output_type": "stream",
     "text": [
      "LOCAL_RANK: 0 - CUDA_VISIBLE_DEVICES: [0]\n",
      "/home/david/anaconda3/envs/mlbd/lib/python3.11/site-packages/pytorch_lightning/trainer/connectors/data_connector.py:430: PossibleUserWarning: The dataloader, test_dataloader, does not have many workers which may be a bottleneck. Consider increasing the value of the `num_workers` argument` (try 16 which is the number of cpus on this machine) in the `DataLoader` init to improve performance.\n",
      "  rank_zero_warn(\n"
     ]
    },
    {
     "name": "stdout",
     "output_type": "stream",
     "text": [
      "\n",
      "Testing DataLoader 0: 100%|██████████| 3275/3275 [00:21<00:00, 153.70it/s]"
     ]
    },
    {
     "name": "stderr",
     "output_type": "stream",
     "text": [
      "/home/david/ETH/recommender/evaluation.py:13: FutureWarning: In a future version of pandas, a length 1 tuple will be returned when iterating over a groupby with a grouper equal to a list of length 1. Don't supply a list with a single grouper to avoid this warning.\n",
      "  for user, topic in user_predict:\n"
     ]
    },
    {
     "name": "stdout",
     "output_type": "stream",
     "text": [
      "Testing DataLoader 0: 100%|██████████| 3275/3275 [00:22<00:00, 144.82it/s]\n",
      "────────────────────────────────────────────────────────────────────────────────────────────────────────────────────────\n",
      "Runningstage.testing metric      DataLoader 0\n",
      "────────────────────────────────────────────────────────────────────────────────────────────────────────────────────────\n",
      "       HitRate@10           0.5929407251103012\n",
      "         MRR@10             0.25986125954953887\n",
      "         NDCG@10            0.3372084454028295\n",
      "────────────────────────────────────────────────────────────────────────────────────────────────────────────────────────\n"
     ]
    }
   ],
   "source": [
    "# train model\n",
    "predictive_factors = 64\n",
    "student_embed_dim = 512\n",
    "topic_embed_dim = 128\n",
    "joint = math and german \n",
    "out, model = run_model(features, predictive_factors, student_embed_dim, topic_embed_dim, data_math_withFeatures, joint, math_ids=math_ids)\n",
    "\n",
    "\n",
    "\n",
    "\n"
   ]
  },
  {
   "cell_type": "code",
   "execution_count": 6,
   "metadata": {},
   "outputs": [],
   "source": [
    "\n",
    "male_id = users[users['gender']=='MALE'].iloc[0]['user_id']\n",
    "female_id = users[users['gender']=='FEMALE'].iloc[0]['user_id']\n",
    "other_id = users[users['gender'].isna()].iloc[0]['user_id']\n",
    "\n",
    "uf = data_math_withFeatures.user_features\n",
    "male_val = uf.loc[male_id]['gender']\n",
    "female_val = uf.loc[female_id]['gender']\n",
    "other_val = uf.loc[other_id]['gender']"
   ]
  },
  {
   "cell_type": "code",
   "execution_count": 7,
   "metadata": {},
   "outputs": [
    {
     "name": "stderr",
     "output_type": "stream",
     "text": [
      "GPU available: True (cuda), used: True\n",
      "TPU available: False, using: 0 TPU cores\n",
      "IPU available: False, using: 0 IPUs\n",
      "HPU available: False, using: 0 HPUs\n",
      "LOCAL_RANK: 0 - CUDA_VISIBLE_DEVICES: [0]\n",
      "/home/david/anaconda3/envs/mlbd/lib/python3.11/site-packages/pytorch_lightning/trainer/connectors/data_connector.py:430: PossibleUserWarning: The dataloader, test_dataloader, does not have many workers which may be a bottleneck. Consider increasing the value of the `num_workers` argument` (try 16 which is the number of cpus on this machine) in the `DataLoader` init to improve performance.\n",
      "  rank_zero_warn(\n"
     ]
    },
    {
     "name": "stdout",
     "output_type": "stream",
     "text": [
      "Testing DataLoader 0: 100%|██████████| 3275/3275 [00:23<00:00, 140.35it/s]"
     ]
    },
    {
     "name": "stderr",
     "output_type": "stream",
     "text": [
      "/home/david/ETH/recommender/evaluation.py:13: FutureWarning: In a future version of pandas, a length 1 tuple will be returned when iterating over a groupby with a grouper equal to a list of length 1. Don't supply a list with a single grouper to avoid this warning.\n",
      "  for user, topic in user_predict:\n"
     ]
    },
    {
     "name": "stdout",
     "output_type": "stream",
     "text": [
      "Testing DataLoader 0: 100%|██████████| 3275/3275 [00:24<00:00, 133.05it/s]"
     ]
    },
    {
     "name": "stderr",
     "output_type": "stream",
     "text": [
      "LOCAL_RANK: 0 - CUDA_VISIBLE_DEVICES: [0]\n",
      "/home/david/anaconda3/envs/mlbd/lib/python3.11/site-packages/pytorch_lightning/trainer/connectors/data_connector.py:430: PossibleUserWarning: The dataloader, test_dataloader, does not have many workers which may be a bottleneck. Consider increasing the value of the `num_workers` argument` (try 16 which is the number of cpus on this machine) in the `DataLoader` init to improve performance.\n",
      "  rank_zero_warn(\n"
     ]
    },
    {
     "name": "stdout",
     "output_type": "stream",
     "text": [
      "\n",
      "────────────────────────────────────────────────────────────────────────────────────────────────────────────────────────\n",
      "Runningstage.testing metric      DataLoader 0\n",
      "────────────────────────────────────────────────────────────────────────────────────────────────────────────────────────\n",
      "       HitRate@10           0.5933243813543065\n",
      "         MRR@10             0.2606004829196849\n",
      "         NDCG@10            0.33783892955247663\n",
      "────────────────────────────────────────────────────────────────────────────────────────────────────────────────────────\n",
      "Testing DataLoader 0: 100%|██████████| 3275/3275 [00:23<00:00, 140.10it/s]"
     ]
    },
    {
     "name": "stderr",
     "output_type": "stream",
     "text": [
      "/home/david/ETH/recommender/evaluation.py:13: FutureWarning: In a future version of pandas, a length 1 tuple will be returned when iterating over a groupby with a grouper equal to a list of length 1. Don't supply a list with a single grouper to avoid this warning.\n",
      "  for user, topic in user_predict:\n"
     ]
    },
    {
     "name": "stdout",
     "output_type": "stream",
     "text": [
      "Testing DataLoader 0: 100%|██████████| 3275/3275 [00:24<00:00, 132.80it/s]"
     ]
    },
    {
     "name": "stderr",
     "output_type": "stream",
     "text": [
      "LOCAL_RANK: 0 - CUDA_VISIBLE_DEVICES: [0]\n",
      "/home/david/anaconda3/envs/mlbd/lib/python3.11/site-packages/pytorch_lightning/trainer/connectors/data_connector.py:430: PossibleUserWarning: The dataloader, test_dataloader, does not have many workers which may be a bottleneck. Consider increasing the value of the `num_workers` argument` (try 16 which is the number of cpus on this machine) in the `DataLoader` init to improve performance.\n",
      "  rank_zero_warn(\n"
     ]
    },
    {
     "name": "stdout",
     "output_type": "stream",
     "text": [
      "\n",
      "────────────────────────────────────────────────────────────────────────────────────────────────────────────────────────\n",
      "Runningstage.testing metric      DataLoader 0\n",
      "────────────────────────────────────────────────────────────────────────────────────────────────────────────────────────\n",
      "       HitRate@10           0.5919815845002877\n",
      "         MRR@10             0.2600185281606728\n",
      "         NDCG@10             0.337097468500949\n",
      "────────────────────────────────────────────────────────────────────────────────────────────────────────────────────────\n",
      "Testing DataLoader 0: 100%|██████████| 3275/3275 [00:23<00:00, 137.14it/s]"
     ]
    },
    {
     "name": "stderr",
     "output_type": "stream",
     "text": [
      "/home/david/ETH/recommender/evaluation.py:13: FutureWarning: In a future version of pandas, a length 1 tuple will be returned when iterating over a groupby with a grouper equal to a list of length 1. Don't supply a list with a single grouper to avoid this warning.\n",
      "  for user, topic in user_predict:\n"
     ]
    },
    {
     "name": "stdout",
     "output_type": "stream",
     "text": [
      "Testing DataLoader 0: 100%|██████████| 3275/3275 [00:25<00:00, 130.20it/s]\n",
      "────────────────────────────────────────────────────────────────────────────────────────────────────────────────────────\n",
      "Runningstage.testing metric      DataLoader 0\n",
      "────────────────────────────────────────────────────────────────────────────────────────────────────────────────────────\n",
      "       HitRate@10           0.5910224438902744\n",
      "         MRR@10             0.2592754225547243\n",
      "         NDCG@10            0.3363142252881175\n",
      "────────────────────────────────────────────────────────────────────────────────────────────────────────────────────────\n"
     ]
    }
   ],
   "source": [
    "from data import LeaveOneOutDS\n",
    "from torch.utils.data import Dataset, DataLoader\n",
    "import pytorch_lightning as pl\n",
    "from pytorch_lightning.callbacks import EarlyStopping, TQDMProgressBar\n",
    "\n",
    "\n",
    "trainer = pl.Trainer(\n",
    "            accelerator=\"auto\",\n",
    "            devices=1,\n",
    "            accumulate_grad_batches=1,\n",
    "            max_epochs=1,\n",
    "    )\n",
    "\n",
    "test_data = data_math_withFeatures.get_test_data()\n",
    "\n",
    "# female\n",
    "for x in test_data:\n",
    "    x[2][0] = female_val\n",
    "\n",
    "dataset = LeaveOneOutDS(test_data, data_math_withFeatures.get_user_ids(), data_math_withFeatures.get_topic_ids())\n",
    "dataloader = DataLoader(dataset, batch_size=64, shuffle=False)\n",
    "trainer.test(model=model, dataloaders=dataloader)\n",
    "\n",
    "female_out = model.eval_results\n",
    "\n",
    "\n",
    "# male\n",
    "for x in test_data:\n",
    "    x[2][0] = male_val\n",
    "\n",
    "dataset = LeaveOneOutDS(test_data, data_math_withFeatures.get_user_ids(), data_math_withFeatures.get_topic_ids())\n",
    "dataloader = DataLoader(dataset, batch_size=64, shuffle=False)\n",
    "trainer.test(model=model, dataloaders=dataloader)\n",
    "\n",
    "male_out = model.eval_results\n",
    "\n",
    "# ...\n",
    "\n",
    "\n",
    "# other\n",
    "for x in test_data:\n",
    "    x[2][0] = other_val\n",
    "\n",
    "dataset = LeaveOneOutDS(test_data, data_math_withFeatures.get_user_ids(), data_math_withFeatures.get_topic_ids())\n",
    "dataloader = DataLoader(dataset, batch_size=64, shuffle=False)\n",
    "trainer.test(model=model, dataloaders=dataloader)\n",
    "\n",
    "other_out = model.eval_results\n",
    "\n",
    "# ...\n"
   ]
  },
  {
   "cell_type": "code",
   "execution_count": 8,
   "metadata": {},
   "outputs": [],
   "source": [
    "out_users = out[0]\n",
    "out_topics = out[1]\n",
    "\n",
    "\n",
    "usrids = data_math_withFeatures.get_user_ids()\n",
    "topicids = data_math_withFeatures.get_topic_ids()\n",
    "\n",
    "out_users = list(map(lambda x: usrids[int(x)], out_users))\n",
    "out_topics = list(map(lambda x: topicids[int(x)], out_topics))\n"
   ]
  },
  {
   "cell_type": "code",
   "execution_count": 9,
   "metadata": {},
   "outputs": [
    {
     "name": "stderr",
     "output_type": "stream",
     "text": [
      "/tmp/ipykernel_79752/3548605448.py:10: FutureWarning: In a future version of pandas, a length 1 tuple will be returned when iterating over a groupby with a grouper equal to a list of length 1. Don't supply a list with a single grouper to avoid this warning.\n",
      "  for user, topic in user_predict:\n",
      "/tmp/ipykernel_79752/3548605448.py:18: FutureWarning: In a future version of pandas, a length 1 tuple will be returned when iterating over a groupby with a grouper equal to a list of length 1. Don't supply a list with a single grouper to avoid this warning.\n",
      "  for user, topic in user_predict:\n",
      "/tmp/ipykernel_79752/3548605448.py:26: FutureWarning: In a future version of pandas, a length 1 tuple will be returned when iterating over a groupby with a grouper equal to a list of length 1. Don't supply a list with a single grouper to avoid this warning.\n",
      "  for user, topic in user_predict:\n"
     ]
    }
   ],
   "source": [
    "results = dict()\n",
    "# get top 5 predictions on test set, remap user and topic id for each pediction, store together\n",
    "n = 5\n",
    "\n",
    "male_df = pd.DataFrame({'user_id': out_users, 'topic_id': out_topics, 'predict_proba': male_out[3].flatten()})\n",
    "female_df = pd.DataFrame({'user_id': out_users, 'topic_id': out_topics, 'predict_proba': female_out[3].flatten()})\n",
    "other_df = pd.DataFrame({'user_id': out_users, 'topic_id': out_topics, 'predict_proba': other_out[3].flatten()})\n",
    "\n",
    "user_predict = male_df.groupby(['user_id'])\n",
    "for user, topic in user_predict:\n",
    "    # Get the top N of highest probability and rank them \n",
    "    results[user] = dict()\n",
    "\n",
    "    topN = [x for _, x in sorted(zip(topic['predict_proba'], topic['topic_id']), reverse=True)][:n]\n",
    "    results[user]['Male'] = topN\n",
    " \n",
    "user_predict = female_df.groupby(['user_id'])\n",
    "for user, topic in user_predict:\n",
    "    # Get the top N of highest probability and rank them \n",
    "\n",
    "    topN = [x for _, x in sorted(zip(topic['predict_proba'], topic['topic_id']), reverse=True)][:n]\n",
    "    results[user]['Female'] = topN\n",
    " \n",
    "        \n",
    "user_predict = other_df.groupby(['user_id'])\n",
    "for user, topic in user_predict:\n",
    "    # Get the top N of highest probability and rank them \n",
    "\n",
    "    topN = [x for _, x in sorted(zip(topic['predict_proba'], topic['topic_id']), reverse=True)][:n]\n",
    "    results[user]['Other'] = topN\n",
    " \n",
    "        \n",
    "        "
   ]
  },
  {
   "cell_type": "code",
   "execution_count": 4,
   "metadata": {},
   "outputs": [],
   "source": [
    "\n",
    "\n",
    "transactions = transactions[~transactions['topic_id'].isna()]\n",
    "transactions = transactions[~transactions['user_id'].isna()]\n",
    "\n",
    "transactions['transaction_id'] = transactions['transaction_id'].astype(int)\n",
    "transactions['user_id'] = transactions['user_id'].astype(int)\n",
    "\n",
    "def compute_percentage_correct(transactions_df):\n",
    "\n",
    "    topics = pd.DataFrame({'topic_id': transactions_df['topic_id'].unique(), 'dummy': transactions['topic_id'].unique()})\n",
    "    topics = topics.set_index('topic_id', drop=True)\n",
    "\n",
    "    partial_per_topic = transactions_df[transactions_df['evaluation'] == 'PARTIAL'].groupby('topic_id').count()['transaction_id']\n",
    "    correct_per_topic = transactions_df[transactions_df['evaluation'] == 'CORRECT'].groupby('topic_id').count()['transaction_id']\n",
    "    wrong_per_topic = transactions_df[transactions_df['evaluation'] == 'WRONG'].groupby('topic_id').count()['transaction_id']\n",
    "\n",
    "    ppu_keys = partial_per_topic.keys()\n",
    "    cpu_keys = correct_per_topic.keys()\n",
    "    wpu_keys = wrong_per_topic.keys()\n",
    "\n",
    "    def correctness_score(row):\n",
    "        tid = row.name\n",
    "        \n",
    "        n_wrong = 0 if tid not in wpu_keys else wrong_per_topic[tid]\n",
    "        n_partial = 0 if tid not in ppu_keys else partial_per_topic[tid]\n",
    "        n_correct = 0 if tid not in cpu_keys else correct_per_topic[tid]\n",
    "\n",
    "        total = n_wrong + n_correct + n_partial\n",
    "\n",
    "        score = 100 * (n_correct + 0.5 * n_partial)\n",
    "\n",
    "\n",
    "        if total == 0:\n",
    "            return 0\n",
    "        \n",
    "        score /= total\n",
    "        \n",
    "        return score\n",
    "\n",
    "    return topics.apply(correctness_score, axis=1)\n",
    "\n",
    "TOPIC_CORRECTNESS = compute_percentage_correct(transactions)\n"
   ]
  },
  {
   "cell_type": "code",
   "execution_count": 5,
   "metadata": {},
   "outputs": [],
   "source": [
    "###########################################################################\n",
    "# NOTE: param 'topic' should be the topic_id as found in the topics table #\n",
    "###########################################################################\n",
    "\n",
    "\n",
    "def generality(topic, user, train_user_topics=None):\n",
    "    \"\"\"\n",
    "    how general vs how detailed is the topic,\n",
    "    distance in topic tree from root\n",
    "    \"\"\"\n",
    "\n",
    "    # assert topic in PATHS[0].keys() and topic != 0, \"topic not found, make sure the topic id is in the original topics table\"\n",
    "\n",
    "    return 1/PATHS[0][topic]\n",
    "\n",
    "    \n",
    "\n",
    "def difficulty(topic, user, train_user_topics=None):\n",
    "    \"\"\"\n",
    "    difficulty of the topic,\n",
    "    fraction of questions that were answered incorrectly \n",
    "    \"\"\"\n",
    "    \n",
    "    if topic in TOPIC_CORRECTNESS.keys():\n",
    "        return (100 - TOPIC_CORRECTNESS[topic])/100 \n",
    "\n",
    "    return 0.5\n",
    "\n",
    "\n",
    "\n",
    "\n",
    "\n",
    "def novelty(topic, user, train_user_topics=None):\n",
    "    \"\"\"\n",
    "    novelty of the topic,\n",
    "    1 = new, 0 = old\n",
    "    \"\"\"\n",
    "    \n",
    "    # assert topic in topics['id'].unique() and user in events['user_id'].unique(), \"MESSAGE TODO:\"\n",
    "    if user in train_user_topics.keys():\n",
    "        return int(topic not in train_user_topics[user])\n",
    "    \n",
    "    return 1\n",
    "\n",
    "def novelty_gru(topic, sequence):\n",
    "    return int(topic not in sequence)\n"
   ]
  },
  {
   "cell_type": "code",
   "execution_count": 12,
   "metadata": {},
   "outputs": [
    {
     "name": "stdout",
     "output_type": "stream",
     "text": [
      "build train_user_topics\n",
      "done\n",
      "0\n",
      "100\n",
      "200\n",
      "300\n",
      "400\n",
      "500\n",
      "600\n",
      "700\n",
      "800\n",
      "900\n",
      "1000\n",
      "1100\n",
      "1200\n",
      "1300\n",
      "1400\n",
      "1500\n",
      "1600\n",
      "1700\n",
      "1800\n",
      "1900\n",
      "2000\n",
      "2100\n",
      "2200\n",
      "2300\n",
      "2400\n",
      "2500\n",
      "2600\n",
      "2700\n",
      "2800\n",
      "2900\n",
      "3000\n",
      "3100\n",
      "3200\n",
      "3300\n",
      "3400\n",
      "3500\n",
      "3600\n",
      "3700\n",
      "3800\n",
      "3900\n",
      "4000\n",
      "4100\n",
      "4200\n",
      "4300\n",
      "4400\n",
      "4500\n",
      "4600\n",
      "4700\n",
      "4800\n",
      "4900\n",
      "5000\n",
      "5100\n",
      "5200\n"
     ]
    }
   ],
   "source": [
    "# TODO: vary the 'gender' feature for all the datapoints in the test set and compare recommended topics\n",
    "\n",
    "n = 5\n",
    "\n",
    "\n",
    "L = 0\n",
    "\n",
    "\n",
    "metrics = ['generality', 'difficulty', 'novelty']\n",
    "\n",
    "\n",
    "func = {'generality': generality, 'difficulty': difficulty, 'novelty': novelty}\n",
    "\n",
    "male = {'generality': 0, 'difficulty': 0, 'novelty': 0}\n",
    "female = {'generality': 0, 'difficulty': 0, 'novelty': 0}\n",
    "other = {'generality': 0, 'difficulty': 0, 'novelty': 0}\n",
    "\n",
    "\n",
    "print(\"build train_user_topics\")\n",
    "\n",
    "train_user_topics = dict()\n",
    "for x in data_math_withFeatures.get_data():\n",
    "    if x[0] not in train_user_topics.keys():\n",
    "        train_user_topics[x[0]] = set()\n",
    "    \n",
    "    train_user_topics[x[0]].add(x[1])\n",
    "\n",
    "print(\"done\")\n",
    "\n",
    "\n",
    "for num, uid in enumerate(results.keys()):\n",
    "    if num % 100 == 0:\n",
    "        print(num)\n",
    "\n",
    "    outputs = results[uid]\n",
    "\n",
    "    for k in metrics:\n",
    "        assert len(outputs['Male']) == len(outputs['Female'])\n",
    "        assert len(outputs['Male']) == len(outputs['Other'])\n",
    "        for i in range(len(outputs['Male'])):\n",
    "            male[k] += func[k](outputs['Male'][i], uid, train_user_topics=train_user_topics)\n",
    "            female[k] += func[k](outputs['Female'][i], uid, train_user_topics=train_user_topics)\n",
    "            other[k] += func[k](outputs['Other'][i], uid, train_user_topics=train_user_topics)\n",
    "            L += 1\n",
    "\n",
    "L = L//3"
   ]
  },
  {
   "cell_type": "code",
   "execution_count": 14,
   "metadata": {},
   "outputs": [],
   "source": [
    "\n",
    "\n",
    "import matplotlib.pyplot as plt\n",
    "import numpy as np\n",
    "\n",
    "metrics_labels = [\"Generality\", \"Difficulty\", \"Novelty\"]\n",
    "data = {\n",
    "    'Female': [female[k] for k in metrics],\n",
    "    'Male': [male[k] for k in metrics],\n",
    "    'Other': [other[k] for k in metrics],\n",
    "}\n",
    "\n",
    "for k in data.keys():\n",
    "    for i in range(3):\n",
    "        data[k][i] /= L\n"
   ]
  },
  {
   "cell_type": "code",
   "execution_count": 15,
   "metadata": {},
   "outputs": [
    {
     "data": {
      "image/png": "[encoded data removed]",
      "text/plain": [
       "<Figure size 640x480 with 1 Axes>"
      ]
     },
     "metadata": {},
     "output_type": "display_data"
    }
   ],
   "source": [
    "\n",
    "x = np.arange(len(metrics_labels))  # the label locations\n",
    "width = 0.25  # the width of the bars\n",
    "multiplier = 0\n",
    "\n",
    "fig, ax = plt.subplots(layout='constrained')\n",
    "\n",
    "for attribute, measurement in data.items():\n",
    "    offset = width * multiplier\n",
    "    rects = ax.bar(x + offset, measurement, width, label=attribute)\n",
    "    # ax.bar_label(rects, padding=3)\n",
    "    multiplier += 1\n",
    "\n",
    "# Add some text for labels, title and custom x-axis tick labels, etc.\n",
    "ax.set_ylabel('Value')\n",
    "ax.set_title('Recommended topic metrics (Math), variation based on gender')\n",
    "ax.set_xticks(x + width, metrics_labels)\n",
    "ax.legend(loc='upper left', ncols=3)\n",
    "# ax.set_ylim(0, 0.2)\n",
    "\n",
    "plt.show()"
   ]
  },
  {
   "attachments": {},
   "cell_type": "markdown",
   "metadata": {},
   "source": [
    "# Same for german"
   ]
  },
  {
   "cell_type": "code",
   "execution_count": null,
   "metadata": {},
   "outputs": [],
   "source": [
    "\n",
    "math_ids = []\n",
    "german_ids = []\n",
    "\n",
    "# create data\n",
    "math = False \n",
    "german = True \n",
    "features = True\n",
    "data_german_withFeatures = create_datasplitter(math, german, features, users, topics, documents, events, transactions)\n",
    "german_ids = data_german_withFeatures.get_topic_ids()\n",
    "\n",
    "joint = math and german \n",
    "out, model = run_model(features, predictive_factors, student_embed_dim, topic_embed_dim, data_german_withFeatures, joint, german_ids=german_ids)\n",
    "\n",
    "\n",
    "male_id = users[users['gender']=='MALE'].iloc[0]['user_id']\n",
    "female_id = users[users['gender']=='FEMALE'].iloc[0]['user_id']\n",
    "other_id = users[users['gender'].isna()].iloc[0]['user_id']\n",
    "\n",
    "uf = data_german_withFeatures.user_features\n",
    "male_val = uf.loc[male_id]['gender']\n",
    "female_val = uf.loc[female_id]['gender']\n",
    "other_val = uf.loc[other_id]['gender']\n",
    "\n",
    "\n",
    "trainer = pl.Trainer(\n",
    "            accelerator=\"auto\",\n",
    "            devices=1,\n",
    "            accumulate_grad_batches=1,\n",
    "            max_epochs=1,\n",
    "    )\n",
    "\n",
    "test_data = data_german_withFeatures.get_test_data()\n",
    "\n",
    "# female\n",
    "for x in test_data:\n",
    "    x[2][0] = female_val\n",
    "\n",
    "dataset = LeaveOneOutDS(test_data, data_german_withFeatures.get_user_ids(), data_german_withFeatures.get_topic_ids())\n",
    "dataloader = DataLoader(dataset, batch_size=64, shuffle=False)\n",
    "trainer.test(model=model, dataloaders=dataloader)\n",
    "\n",
    "female_out = model.eval_results\n",
    "\n",
    "\n",
    "# male\n",
    "for x in test_data:\n",
    "    x[2][0] = male_val\n",
    "\n",
    "dataset = LeaveOneOutDS(test_data, data_german_withFeatures.get_user_ids(), data_german_withFeatures.get_topic_ids())\n",
    "dataloader = DataLoader(dataset, batch_size=64, shuffle=False)\n",
    "trainer.test(model=model, dataloaders=dataloader)\n",
    "\n",
    "male_out = model.eval_results\n",
    "\n",
    "# ...\n",
    "\n",
    "\n",
    "# other\n",
    "for x in test_data:\n",
    "    x[2][0] = other_val\n",
    "\n",
    "dataset = LeaveOneOutDS(test_data, data_german_withFeatures.get_user_ids(), data_german_withFeatures.get_topic_ids())\n",
    "dataloader = DataLoader(dataset, batch_size=64, shuffle=False)\n",
    "trainer.test(model=model, dataloaders=dataloader)\n",
    "\n",
    "other_out = model.eval_results\n",
    "\n"
   ]
  },
  {
   "cell_type": "code",
   "execution_count": 66,
   "metadata": {},
   "outputs": [
    {
     "name": "stdout",
     "output_type": "stream",
     "text": [
      "(tensor(8204), tensor(0), tensor([ 0.9008,  0.3003, -0.3901,  1.6745,  0.1483, -0.0899,  0.0074,  0.0683]), tensor([-0.2267,  5.3479]), tensor([0.]))\n",
      "(tensor(8204), tensor(0), tensor([-0.4380,  0.3003, -0.3901,  1.6745,  0.1483, -0.0899,  0.0074,  0.0683]), tensor([-0.2267,  5.3479]), tensor([0.]))\n",
      "(tensor(8204), tensor(0), tensor([ 0.9008,  0.3003, -0.3901,  1.6745,  0.1483, -0.0899,  0.0074,  0.0683]), tensor([-0.2267,  5.3479]), tensor([0.]))\n"
     ]
    }
   ],
   "source": [
    "# female\n",
    "for x in test_data:\n",
    "    x[2][0] = female_val\n",
    "\n",
    "dataset = LeaveOneOutDS(deepcopy(test_data), data_german_withFeatures.get_user_ids(), data_german_withFeatures.get_topic_ids())\n",
    "\n",
    "fem = dataset\n",
    "\n",
    "print(dataset.__getitem__(0))\n",
    "\n",
    "# male\n",
    "for x in test_data:\n",
    "    x[2][0] = male_val\n",
    "\n",
    "dataset = LeaveOneOutDS(deepcopy(test_data), data_german_withFeatures.get_user_ids(), data_german_withFeatures.get_topic_ids())\n",
    "dataset.__getitem__(0)\n",
    "\n",
    "print(dataset.__getitem__(0))\n",
    "print(fem.__getitem__(0))\n"
   ]
  },
  {
   "cell_type": "code",
   "execution_count": 60,
   "metadata": {},
   "outputs": [
    {
     "name": "stderr",
     "output_type": "stream",
     "text": [
      "/tmp/ipykernel_77208/1461969352.py:22: FutureWarning: In a future version of pandas, a length 1 tuple will be returned when iterating over a groupby with a grouper equal to a list of length 1. Don't supply a list with a single grouper to avoid this warning.\n",
      "  for user, topic in user_predict:\n",
      "/tmp/ipykernel_77208/1461969352.py:30: FutureWarning: In a future version of pandas, a length 1 tuple will be returned when iterating over a groupby with a grouper equal to a list of length 1. Don't supply a list with a single grouper to avoid this warning.\n",
      "  for user, topic in user_predict:\n",
      "/tmp/ipykernel_77208/1461969352.py:38: FutureWarning: In a future version of pandas, a length 1 tuple will be returned when iterating over a groupby with a grouper equal to a list of length 1. Don't supply a list with a single grouper to avoid this warning.\n",
      "  for user, topic in user_predict:\n"
     ]
    }
   ],
   "source": [
    "\n",
    "# ...\n",
    "out_users = out[0]\n",
    "out_topics = out[1]\n",
    "\n",
    "\n",
    "usrids = data_german_withFeatures.get_user_ids()\n",
    "topicids = data_german_withFeatures.get_topic_ids()\n",
    "\n",
    "out_users = list(map(lambda x: usrids[int(x)], out_users))\n",
    "out_topics = list(map(lambda x: topicids[int(x)], out_topics))\n",
    "\n",
    "\n",
    "results2 = dict()\n",
    "# get top 5 predictions on test set, remap user and topic id for each pediction, store together\n",
    "n = 5\n",
    "\n",
    "male_df = pd.DataFrame({'user_id': out_users, 'topic_id': out_topics, 'predict_proba': male_out[3].flatten()})\n",
    "female_df = pd.DataFrame({'user_id': out_users, 'topic_id': out_topics, 'predict_proba': female_out[3].flatten()})\n",
    "other_df = pd.DataFrame({'user_id': out_users, 'topic_id': out_topics, 'predict_proba': other_out[3].flatten()})\n",
    "\n",
    "user_predict = male_df.groupby(['user_id'])\n",
    "for user, topic in user_predict:\n",
    "    # Get the top N of highest probability and rank them \n",
    "    results2[user] = dict()\n",
    "\n",
    "    topN = [x for _, x in sorted(zip(topic['predict_proba'], topic['topic_id']), reverse=True)][:n]\n",
    "    results2[user]['Male'] = topN\n",
    " \n",
    "user_predict = female_df.groupby(['user_id'])\n",
    "for user, topic in user_predict:\n",
    "    # Get the top N of highest probability and rank them \n",
    "\n",
    "    topN = [x for _, x in sorted(zip(topic['predict_proba'], topic['topic_id']), reverse=True)][:n]\n",
    "    results2[user]['Female'] = topN\n",
    " \n",
    "        \n",
    "user_predict = other_df.groupby(['user_id'])\n",
    "for user, topic in user_predict:\n",
    "    # Get the top N of highest probability and rank them \n",
    "\n",
    "    topN = [x for _, x in sorted(zip(topic['predict_proba'], topic['topic_id']), reverse=True)][:n]\n",
    "    results2[user]['Other'] = topN\n",
    " \n",
    "\n"
   ]
  },
  {
   "cell_type": "code",
   "execution_count": 61,
   "metadata": {},
   "outputs": [
    {
     "name": "stdout",
     "output_type": "stream",
     "text": [
      "build train_user_topics\n",
      "done\n",
      "0\n",
      "100\n",
      "200\n",
      "300\n",
      "400\n",
      "500\n",
      "600\n",
      "700\n",
      "800\n",
      "900\n",
      "1000\n",
      "1100\n",
      "1200\n",
      "1300\n",
      "1400\n",
      "1500\n",
      "1600\n",
      "1700\n",
      "1800\n",
      "1900\n",
      "2000\n",
      "2100\n",
      "2200\n",
      "2300\n",
      "2400\n",
      "2500\n",
      "2600\n",
      "2700\n",
      "2800\n",
      "2900\n",
      "3000\n",
      "3100\n",
      "3200\n",
      "3300\n",
      "3400\n",
      "3500\n",
      "3600\n",
      "3700\n",
      "3800\n",
      "3900\n",
      "4000\n",
      "4100\n",
      "4200\n",
      "4300\n",
      "4400\n",
      "4500\n",
      "4600\n",
      "4700\n",
      "4800\n",
      "4900\n",
      "5000\n",
      "5100\n",
      "5200\n",
      "5300\n",
      "5400\n",
      "5500\n",
      "5600\n",
      "5700\n",
      "5800\n",
      "5900\n",
      "6000\n",
      "6100\n",
      "6200\n",
      "6300\n",
      "6400\n",
      "6500\n",
      "6600\n",
      "6700\n",
      "6800\n",
      "6900\n",
      "7000\n",
      "7100\n",
      "7200\n"
     ]
    }
   ],
   "source": [
    "\n",
    "n = 5\n",
    "\n",
    "\n",
    "L = 0\n",
    "\n",
    "\n",
    "metrics = ['generality', 'difficulty', 'novelty']\n",
    "\n",
    "\n",
    "func = {'generality': generality, 'difficulty': difficulty, 'novelty': novelty}\n",
    "\n",
    "male_german = {'generality': 0, 'difficulty': 0, 'novelty': 0}\n",
    "female_german = {'generality': 0, 'difficulty': 0, 'novelty': 0}\n",
    "other_german = {'generality': 0, 'difficulty': 0, 'novelty': 0}\n",
    "\n",
    "print(\"build train_user_topics\")\n",
    "\n",
    "train_user_topics = dict()\n",
    "for x in data_german_withFeatures.get_data():\n",
    "    if x[0] not in train_user_topics.keys():\n",
    "        train_user_topics[x[0]] = set()\n",
    "    \n",
    "    train_user_topics[x[0]].add(x[1])\n",
    "\n",
    "print(\"done\")\n",
    "\n",
    "for num, uid in enumerate(results2.keys()):\n",
    "    if num % 100 == 0:\n",
    "        print(num)\n",
    "\n",
    "    outputs = results2[uid]\n",
    "\n",
    "    for k in metrics:\n",
    "        for i in range(len(outputs['Male'])):\n",
    "            male_german[k] += func[k](outputs['Male'][i], uid, train_user_topics=train_user_topics)\n",
    "            female_german[k] += func[k](outputs['Female'][i], uid, train_user_topics=train_user_topics)\n",
    "            other_german[k] += func[k](outputs['Other'][i], uid, train_user_topics=train_user_topics)\n",
    "            L += 1\n",
    "\n",
    "L = L//3\n",
    "\n",
    "import matplotlib.pyplot as plt\n",
    "import numpy as np\n",
    "\n",
    "\n"
   ]
  },
  {
   "cell_type": "code",
   "execution_count": 63,
   "metadata": {},
   "outputs": [
    {
     "data": {
      "image/png": "[encoded data removed]",
      "text/plain": [
       "<Figure size 640x480 with 1 Axes>"
      ]
     },
     "metadata": {},
     "output_type": "display_data"
    }
   ],
   "source": [
    "\n",
    "metrics_labels = [\"Generality\", \"Difficulty\", \"Novelty\"]\n",
    "data_german = {\n",
    "    'Female': [female_german[k] for k in metrics],\n",
    "    'Male': [male_german[k] for k in metrics],\n",
    "    'Other': [other_german[k] for k in metrics],\n",
    "}\n",
    "\n",
    "for k in data_german.keys():\n",
    "    for i in range(3):\n",
    "        data_german[k][i] /= L\n",
    "\n",
    "x = np.arange(len(metrics_labels))  # the label locations\n",
    "width = 0.25  # the width of the bars\n",
    "multiplier = 0\n",
    "\n",
    "fig, ax = plt.subplots(layout='constrained')\n",
    "\n",
    "for attribute, measurement in data_german.items():\n",
    "    offset = width * multiplier\n",
    "    rects = ax.bar(x + offset, measurement, width, label=attribute)\n",
    "    # ax.bar_label(rects, padding=3)\n",
    "    multiplier += 1\n",
    "\n",
    "# Add some text for labels, title and custom x-axis tick labels, etc.\n",
    "ax.set_ylabel('Value')\n",
    "ax.set_title('Recommended topic metrics (German), variation based on gender')\n",
    "ax.set_xticks(x + width, metrics_labels)\n",
    "ax.legend(loc='upper left', ncols=3)\n",
    "# ax.set_ylim(0, 0.2)\n",
    "\n",
    "plt.show()"
   ]
  },
  {
   "cell_type": "code",
   "execution_count": null,
   "metadata": {},
   "outputs": [],
   "source": [
    "# TODO: make note on novelty metric in report"
   ]
  },
  {
   "cell_type": "code",
   "execution_count": null,
   "metadata": {},
   "outputs": [],
   "source": []
  },
  {
   "cell_type": "code",
   "execution_count": null,
   "metadata": {},
   "outputs": [],
   "source": [
    "# TODO: check if with & without featuress ressults in the same set of user and topic ids  for test"
   ]
  },
  {
   "cell_type": "code",
   "execution_count": null,
   "metadata": {},
   "outputs": [],
   "source": [
    "from data import SequentialSplitter\n",
    "from gru4rec_model import GRU4RecNetwork\n",
    "from torch import optim, nn\n",
    "\n",
    "\n",
    "RESULTS_MATH = dict()\n",
    "RESULTS_GERMAN = dict()\n",
    "GRU_MATH = dict()\n",
    "GRU_GERMAN = dict()\n",
    "\n",
    "def collect_model_data_ncf(modelname, german, math, features):\n",
    "\n",
    "    math_ids = []\n",
    "    german_ids = []\n",
    "\n",
    "    # create data\n",
    "    data_ = create_datasplitter(math, german, features, users, topics, documents, events, transactions)\n",
    "    if german:\n",
    "        german_ids = data_.get_topic_ids()\n",
    "    elif math:\n",
    "        math_ids = data_.get_topic_ids()\n",
    "\n",
    "    joint = math and german \n",
    "    out, model = run_model(features, predictive_factors, student_embed_dim, topic_embed_dim, data_, joint, german_ids=german_ids, math_ids=math_ids)\n",
    "\n",
    "\n",
    "    print(\"build train_user_topics\")\n",
    "\n",
    "    train_user_topics = dict()\n",
    "    for x in data_.get_data():\n",
    "        if x[0] not in train_user_topics.keys():\n",
    "            train_user_topics[x[0]] = set()\n",
    "        \n",
    "        train_user_topics[x[0]].add(x[1])\n",
    "\n",
    "    print(\"done\")\n",
    "\n",
    "    print(\"test user ids\")\n",
    "\n",
    "    test_user_ids = list(map(lambda x: x[0], data_.get_test_data()))\n",
    "    test_user_ids = list(set(test_user_ids))\n",
    "\n",
    "    print(\"done\")\n",
    "\n",
    "    # ...\n",
    "    out_users = out[0]\n",
    "    out_topics = out[1]\n",
    "\n",
    "\n",
    "    usrids = data_.get_user_ids()\n",
    "    topicids = data_.get_topic_ids()\n",
    "\n",
    "    out_users = list(map(lambda x: usrids[int(x)], out_users))\n",
    "    out_topics = list(map(lambda x: topicids[int(x)], out_topics))\n",
    "\n",
    "\n",
    "    \n",
    "    # get top 5 predictions on test set, remap user and topic id for each pediction, store together\n",
    "    n = 5\n",
    "\n",
    "    df = pd.DataFrame({'user_id': out_users, 'topic_id': out_topics, 'predict_proba': out[3].flatten()})\n",
    "\n",
    "    user_predict = df.groupby(['user_id'])\n",
    "    for user, topic in user_predict:\n",
    "        # Get the top N of highest probability and rank them \n",
    "        topN = [x for _, x in sorted(zip(topic['predict_proba'], topic['topic_id']), reverse=True)][:n]\n",
    "\n",
    "\n",
    "        if math:\n",
    "            res = RESULTS_MATH\n",
    "        else:\n",
    "            res = RESULTS_GERMAN\n",
    "\n",
    "        if user not in res.keys():\n",
    "            res[user] = dict()\n",
    "\n",
    "        res[user][modelname] = topN\n",
    "\n",
    "    return train_user_topics, test_user_ids\n",
    "    \n",
    "def collect_model_data_gru(math, german, user_ids):\n",
    "    modelname = \"GRU4Rec\"\n",
    "\n",
    "    data_splitter = None\n",
    "    if math:\n",
    "        data_splitter = SequentialSplitter(events_preprocessed_only_math)\n",
    "    elif german:\n",
    "        data_splitter = SequentialSplitter(events_preprocessed_only_german)\n",
    "\n",
    "    BATCH_SIZE = 64\n",
    "    train_dataloader = DataLoader(data_splitter.get_train_dataset(), batch_size=BATCH_SIZE, shuffle=True)\n",
    "    val_dataloader = DataLoader(data_splitter.get_val_dataset(), batch_size=BATCH_SIZE, shuffle=False)\n",
    "    test_dataloader = DataLoader(data_splitter.get_test_dataset(), batch_size=BATCH_SIZE, shuffle=False)\n",
    "\n",
    "    data_splitter.get_test_data()\n",
    "\n",
    "\n",
    "    TOPIC_EMBEDDING_DIM = 64\n",
    "    HIDDEN_DIM = 256\n",
    "\n",
    "\n",
    "    gru4rec = GRU4RecNetwork(\n",
    "        num_topics=data_splitter.get_num_topics(),\n",
    "        topic_embedding_dim=TOPIC_EMBEDDING_DIM,\n",
    "        hidden_dim=HIDDEN_DIM,\n",
    "        dropout_rate=0.3,\n",
    "        loss=nn.NLLLoss(),\n",
    "    )\n",
    "\n",
    "\n",
    "    EPOCHS = 15\n",
    "\n",
    "    early_stop_callback = EarlyStopping(\n",
    "        monitor=\"val_loss\",\n",
    "        min_delta=0.0,\n",
    "        patience=2,\n",
    "        verbose=True,\n",
    "        mode=\"min\"\n",
    "    )\n",
    "\n",
    "    trainer = pl.Trainer(\n",
    "            accelerator=\"auto\",\n",
    "            devices=1,\n",
    "            accumulate_grad_batches=1,\n",
    "            max_epochs=EPOCHS,\n",
    "            callbacks=[TQDMProgressBar(refresh_rate=10), early_stop_callback],\n",
    "            val_check_interval=0.5\n",
    "    )\n",
    "\n",
    "    trainer.fit(model=gru4rec, train_dataloaders=train_dataloader, val_dataloaders=val_dataloader)\n",
    "    trainer.test(model=gru4rec, dataloaders=test_dataloader)\n",
    "\n",
    "    # TODO: add results\n",
    "\n",
    "\n",
    "from transformer_model import TransformerRecommender\n",
    "\n",
    "def get_model_data_transformer(math, german, user_ids):\n",
    "    modelname = \"Transformer\"\n",
    "    \n",
    "    if math:\n",
    "        data = events_preprocessed_only_math\n",
    "    elif german:\n",
    "        data = events_preprocessed_only_german\n",
    "\n",
    "    recommender = TransformerRecommender(\n",
    "        data,\n",
    "        max_length=80,\n",
    "        hidden_size=128,\n",
    "        num_layers=2,\n",
    "        num_heads=2,\n",
    "        dropout=0.2\n",
    "    )\n",
    "\n",
    "    train_losses = recommender.train(\n",
    "        batch_size=80,\n",
    "        num_epochs=10,\n",
    "        lr=0.001,\n",
    "        window_size=2\n",
    "    )\n",
    "\n",
    "    for user in user_ids:\n",
    "        # Get the top N of highest probability and rank them \n",
    "        predictions = recommender.predict_topk_topics(user, 5)\n",
    "        predictions = list(map(lambda x: x[0], predictions))\n",
    "\n",
    "        if math:\n",
    "            res = RESULTS_MATH\n",
    "        else:\n",
    "            res = RESULTS_GERMAN\n",
    "\n",
    "        if user not in res.keys():\n",
    "            res[user] = dict()\n",
    "\n",
    "        res[user][modelname] = predictions\n",
    "    \n",
    "\n",
    "\n"
   ]
  },
  {
   "cell_type": "code",
   "execution_count": null,
   "metadata": {},
   "outputs": [],
   "source": [
    "# TODO: for all models, compute those metrics for the predictions on the test set\n",
    "# compare the models, prediction of novelty, difficulty, generality\n",
    "\n",
    "\n",
    "n = 5\n",
    "\n",
    "# TODO: replace this with the output from the different models\n",
    "results_math = {\n",
    "    0: {'NCF': [0,1,2,3,4], 'NCF with features': [4,5,6,7,8], 'Transformer': [5,6,7,8,9]},\n",
    "    1: {'NCF': [0,1,2,3,4], 'NCF with features': [4,5,6,7,8], 'Transformer': [5,6,7,8,9]},\n",
    "    2: {'NCF': [0,1,2,3,4], 'NCF with features': [4,5,6,7,8], 'Transformer': [5,6,7,8,9]},\n",
    "}\n",
    "gru_math = [1,2,3,4,5,6,7,8,9]\n",
    "\n",
    "L = 0\n",
    "\n",
    "\n",
    "metrics = ['generality', 'difficulty', 'novelty']\n",
    "\n",
    "\n",
    "func = {'generality': generality, 'difficulty': difficulty, 'novelty': novelty}\n",
    "\n",
    "ncf = {'generality': 0, 'difficulty': 0, 'novelty': 0}\n",
    "ncf_feature = {'generality': 0, 'difficulty': 0, 'novelty': 0}\n",
    "gru4rec = {'generality': 0, 'difficulty': 0, 'novelty': 0}\n",
    "transformer = {'generality': 0, 'difficulty': 0, 'novelty': 0}\n",
    "\n",
    "\n",
    "for uid in results_math.keys():\n",
    "    outputs = results_math[uid]\n",
    "\n",
    "    for k in metrics:\n",
    "        for i in range(len(outputs['NCF'])):\n",
    "            ncf[k] += func[k](outputs['NCF'][i], uid)\n",
    "            ncf_feature[k] += func[k](outputs['NCF with features'][i], uid)\n",
    "            transformer[k] += func[k](outputs['Transformer'][i], uid)\n",
    "            L += 1\n",
    "\n",
    "\n",
    "\n"
   ]
  },
  {
   "cell_type": "code",
   "execution_count": null,
   "metadata": {},
   "outputs": [],
   "source": [
    "import matplotlib.pyplot as plt\n",
    "import numpy as np\n",
    "\n",
    "metrics_labels = [\"Generality\", \"Difficulty\", \"Novelty\"]\n",
    "data = {\n",
    "    'NCF': [ncf[k] for k in metrics],\n",
    "    'NCF with features': [ncf_feature[k] for k in metrics],\n",
    "    'Transformer': [transformer[k] for k in metrics],\n",
    "}\n",
    "\n",
    "for k in data.keys():\n",
    "    for i in range(len(metrics)):\n",
    "        data[k][i] /= L\n",
    "\n",
    "\n",
    "\n",
    "x = np.arange(len(metrics_labels))  # the label locations\n",
    "width = 0.25  # the width of the bars\n",
    "multiplier = 0\n",
    "\n",
    "fig, ax = plt.subplots(layout='constrained')\n",
    "\n",
    "for attribute, measurement in data.items():\n",
    "    offset = width * multiplier\n",
    "    rects = ax.bar(x + offset, measurement, width, label=attribute)\n",
    "    ax.bar_label(rects, padding=3)\n",
    "    multiplier += 1\n",
    "\n",
    "# Add some text for labels, title and custom x-axis tick labels, etc.\n",
    "ax.set_ylabel('Value')\n",
    "ax.set_title('Recommended topic metrics, comparison of different models')\n",
    "ax.set_xticks(x + width, metrics_labels)\n",
    "#ax.legend(loc='upper left', ncols=3)\n",
    "# ax.set_ylim(0, 250)\n",
    "\n",
    "plt.show()"
   ]
  },
  {
   "cell_type": "code",
   "execution_count": null,
   "metadata": {},
   "outputs": [],
   "source": [
    "# TODO: implement LIME-RS for the models, look at some specific test examples and compare"
   ]
  },
  {
   "cell_type": "code",
   "execution_count": null,
   "metadata": {},
   "outputs": [],
   "source": []
  },
  {
   "cell_type": "code",
   "execution_count": null,
   "metadata": {},
   "outputs": [],
   "source": [
    "data_splitter = SequentialSplitter(events_preprocessed_only_german)\n",
    "BATCH_SIZE = 64\n",
    "train_dataloader = DataLoader(data_splitter.get_train_dataset(), batch_size=BATCH_SIZE, shuffle=True)\n",
    "val_dataloader = DataLoader(data_splitter.get_val_dataset(), batch_size=BATCH_SIZE, shuffle=False)\n",
    "test_dataloader = DataLoader(data_splitter.get_test_dataset(), batch_size=BATCH_SIZE, shuffle=False)\n",
    "\n",
    "TOPIC_EMBEDDING_DIM = 64\n",
    "HIDDEN_DIM = 256\n",
    "\n",
    "\n",
    "gru4rec = GRU4RecNetwork(\n",
    "    num_topics=data_splitter.get_num_topics(),\n",
    "    topic_embedding_dim=TOPIC_EMBEDDING_DIM,\n",
    "    hidden_dim=HIDDEN_DIM,\n",
    "    dropout_rate=0.3,\n",
    "    loss=nn.NLLLoss(),\n",
    ")\n",
    "\n",
    "\n",
    "EPOCHS = 15\n",
    "\n",
    "early_stop_callback = EarlyStopping(\n",
    "    monitor=\"val_loss\",\n",
    "    min_delta=0.0,\n",
    "    patience=2,\n",
    "    verbose=True,\n",
    "    mode=\"min\"\n",
    ")\n",
    "\n",
    "trainer = pl.Trainer(\n",
    "        accelerator=\"auto\",\n",
    "        devices=1,\n",
    "        accumulate_grad_batches=1,\n",
    "        max_epochs=EPOCHS,\n",
    "        callbacks=[TQDMProgressBar(refresh_rate=10), early_stop_callback],\n",
    "        val_check_interval=0.5\n",
    ")\n",
    "\n",
    "trainer.fit(model=gru4rec, train_dataloaders=train_dataloader, val_dataloaders=val_dataloader)\n",
    "trainer.test(model=gru4rec, dataloaders=test_dataloader)\n",
    "\n",
    "gru4rec.predict_proba"
   ]
  },
  {
   "cell_type": "code",
   "execution_count": null,
   "metadata": {},
   "outputs": [],
   "source": [
    "from predictions import get_predictions, write_outputs\n",
    "\n",
    "\n",
    "predictions = get_predictions(data_splitter.get_test_data(), gru4rec.predict_proba, is_sequential=True, topic_ids=data_splitter.get_topic_ids())\n",
    "predictions"
   ]
  }
 ],
 "metadata": {
  "kernelspec": {
   "display_name": "mlbd",
   "language": "python",
   "name": "python3"
  },
  "language_info": {
   "codemirror_mode": {
    "name": "ipython",
    "version": 3
   },
   "file_extension": ".py",
   "mimetype": "text/x-python",
   "name": "python",
   "nbconvert_exporter": "python",
   "pygments_lexer": "ipython3",
   "version": "3.11.3"
  },
  "orig_nbformat": 4
 },
 "nbformat": 4,
 "nbformat_minor": 2
}
