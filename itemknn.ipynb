{
 "cells": [
  {
   "cell_type": "code",
   "execution_count": 1,
   "metadata": {},
   "outputs": [
    {
     "ename": "",
     "evalue": "",
     "output_type": "error",
     "traceback": [
      "\u001b[1;31mCanceled future for execute_request message before replies were done"
     ]
    },
    {
     "ename": "",
     "evalue": "",
     "output_type": "error",
     "traceback": [
      "\u001b[1;31mThe Kernel crashed while executing code in the the current cell or a previous cell. Please review the code in the cell(s) to identify a possible cause of the failure. Click <a href='https://aka.ms/vscodeJupyterKernelCrash'>here</a> for more info. View Jupyter <a href='command:jupyter.viewOutput'>log</a> for further details."
     ]
    }
   ],
   "source": [
    "# Import the tables of the data set as dataframes.\n",
    "import numpy as np\n",
    "import pandas as pd\n",
    "import matplotlib.pyplot as plt\n",
    "import seaborn as sns\n",
    "\n",
    "DATA_DIR = './../data' \n",
    "STUDY_DIR = DATA_DIR + '/study'\n",
    "\n",
    "\n",
    "#users = pd.read_csv(f'{DATA_DIR}/users.csv.gz')\n",
    "\n",
    "# use study for less data, for testing\n",
    "events = pd.read_csv(f'{DATA_DIR}/events.csv.gz')\n",
    "#transactions = pd.read_csv(f'{DATA_DIR}/transactions.csv.gz')"
   ]
  },
  {
   "cell_type": "code",
   "execution_count": 3,
   "metadata": {},
   "outputs": [],
   "source": [
    "from itemknn_model import ItemKNN\n",
    "from data import ItemKNNSplitter\n",
    "\n",
    "splitter = ItemKNNSplitter(events)\n",
    "\n",
    "\n",
    "model = ItemKNN(5)\n",
    "model.train(splitter.get_matrix())"
   ]
  },
  {
   "cell_type": "code",
   "execution_count": 4,
   "metadata": {},
   "outputs": [],
   "source": [
    "for sample in splitter.get_test_samples():\n",
    "    model.test_step(sample)"
   ]
  },
  {
   "cell_type": "code",
   "execution_count": 5,
   "metadata": {},
   "outputs": [
    {
     "data": {
      "text/plain": [
       "tensor([ 1.5188e+01,  4.4845e+01, -9.5294e+00, -4.1922e+01,  3.0618e+01,\n",
       "        -2.2926e+01,  0.0000e+00,  0.0000e+00,  6.0454e+00, -3.6847e+01,\n",
       "         4.8257e+01,  0.0000e+00,  5.4167e-01,  2.1227e+01, -1.2461e+01,\n",
       "         1.3955e+01,         nan,  0.0000e+00, -6.7115e+00,  2.2637e+01,\n",
       "         0.0000e+00,  0.0000e+00, -2.8357e+01, -3.6490e+01,  0.0000e+00,\n",
       "         1.3991e+01,  2.6231e+01, -8.7333e+01,  0.0000e+00, -4.7397e+01,\n",
       "         1.8471e+01,  1.9567e+02,  0.0000e+00, -2.2926e+01,  1.8618e+02,\n",
       "        -1.7963e+01, -3.0377e+02,  1.7519e+02,  0.0000e+00, -3.0709e+01,\n",
       "         3.0722e+01,  1.3155e+02, -1.3396e+01, -3.8590e+01,  0.0000e+00,\n",
       "         9.4435e+00, -1.6532e+01,  3.1183e-01,  0.0000e+00,         nan,\n",
       "         0.0000e+00,  0.0000e+00, -2.4793e+01, -1.1022e+01,  0.0000e+00,\n",
       "        -2.3514e+01, -1.5504e+01,  1.3366e+01, -1.9124e+00, -1.4757e+01,\n",
       "        -4.3078e+01,  3.4401e+01,  0.0000e+00,  2.7196e+01,  0.0000e+00,\n",
       "        -3.9709e+01, -1.1693e+01, -1.2126e+03,  4.3433e+01,  0.0000e+00,\n",
       "         0.0000e+00,  2.7548e+02, -3.3096e+01, -3.9627e+01, -1.2843e+01,\n",
       "         0.0000e+00, -1.1920e+01, -7.8451e+00,  0.0000e+00,  0.0000e+00,\n",
       "         0.0000e+00,  0.0000e+00,  1.5724e+01, -4.1055e+01, -3.3074e+01,\n",
       "                nan, -5.6784e+01, -7.9685e+00, -2.1608e+00,  0.0000e+00,\n",
       "        -3.4357e+01,  0.0000e+00,  0.0000e+00,  0.0000e+00,         nan,\n",
       "        -7.0302e+01, -2.1926e+01,  0.0000e+00,  0.0000e+00,  5.6568e+01,\n",
       "        -2.9954e+01, -6.1282e+01,  0.0000e+00, -7.6341e+00, -1.7784e+01,\n",
       "        -2.2860e+01,  2.9369e+02,  0.0000e+00,  0.0000e+00],\n",
       "       dtype=torch.float64)"
      ]
     },
     "execution_count": 5,
     "metadata": {},
     "output_type": "execute_result"
    }
   ],
   "source": [
    "model.predict_proba"
   ]
  },
  {
   "cell_type": "code",
   "execution_count": 6,
   "metadata": {},
   "outputs": [],
   "source": [
    "from predictions import get_predictions, write_outputs\n",
    "\n",
    "# TODO: change path for saving file\n",
    "write_outputs(get_predictions(splitter.get_test_samples(), model.predict_proba), [], 'itemknn', '.')"
   ]
  }
 ],
 "metadata": {
  "kernelspec": {
   "display_name": "mlbd",
   "language": "python",
   "name": "python3"
  },
  "language_info": {
   "codemirror_mode": {
    "name": "ipython",
    "version": 3
   },
   "file_extension": ".py",
   "mimetype": "text/x-python",
   "name": "python",
   "nbconvert_exporter": "python",
   "pygments_lexer": "ipython3",
   "version": "3.10.9"
  },
  "orig_nbformat": 4
 },
 "nbformat": 4,
 "nbformat_minor": 2
}
