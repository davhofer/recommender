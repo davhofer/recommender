{
 "cells": [
  {
   "cell_type": "code",
   "execution_count": null,
   "metadata": {},
   "outputs": [],
   "source": []
  },
  {
   "cell_type": "code",
   "execution_count": 1,
   "metadata": {},
   "outputs": [],
   "source": [
    "# Import the tables of the data set as dataframes.\n",
    "import numpy as np\n",
    "import pandas as pd\n",
    "import matplotlib.pyplot as plt\n",
    "import seaborn as sns\n",
    "\n",
    "DATA_DIR = './../data' \n",
    "STUDY_DIR = DATA_DIR + '/study'\n",
    "\n",
    "\n",
    "users = pd.read_csv(f'{DATA_DIR}/users.csv.gz')\n",
    "\n",
    "# use study for less data, for testing\n",
    "events = pd.read_csv(f'{STUDY_DIR}/events.csv.gz')\n",
    "transactions = pd.read_csv(f'{STUDY_DIR}/transactions.csv.gz')"
   ]
  },
  {
   "cell_type": "code",
   "execution_count": 2,
   "metadata": {},
   "outputs": [],
   "source": [
    "\n",
    "import torch\n",
    "from torch.utils.data import Dataset, DataLoader\n",
    "import random\n",
    "import pandas as pd\n",
    "import numpy as np\n",
    "\n",
    "class ItemKNNDS(Dataset):\n",
    "    def __init__(self, data):\n",
    "        self.data = data\n",
    "\n",
    "    def __len__(self):\n",
    "        return len(self.data)\n",
    "\n",
    "    def __getitem__(self, index):\n",
    "        user, topic, y = self.data[index]\n",
    "\n",
    "        user = torch.tensor(user)\n",
    "\n",
    "        topic = torch.tensor(topic)\n",
    "        y = torch.tensor([y])\n",
    "        return user, topic, y\n",
    "\n",
    "class ItemKNNSplitter:\n",
    "    def __init__(self,\n",
    "                 df,\n",
    "                 test_user_frac=0.5,\n",
    "                 ):\n",
    "        \n",
    "        events_df = df[~df['topic_id'].isna()]\n",
    "\n",
    "        #events_df = events_df[events_df['action'].isin(['GO_TO_THEORY', 'SUBMIT_ANSWER'])]\n",
    "\n",
    "        interactions = events_df[['user_id', 'topic_id', 'event_id']].groupby(['user_id', 'topic_id']).count()\n",
    "        interactions = interactions[interactions['event_id'] >= 5]\n",
    "        interactions_index = interactions.index\n",
    "\n",
    "        interactions = interactions.reset_index()\n",
    "        interactions = interactions.rename(columns={'event_id': 'count'})\n",
    "\n",
    "        self.matrix = interactions.pivot_table(index='topic_id', columns='user_id', values='count')\n",
    "        self.matrix = self.matrix.subtract(self.matrix.mean(axis=1), axis=0)\n",
    "\n",
    "        user_ids = list(set(map(lambda x: x[0], list(interactions_index))))\n",
    "\n",
    "        test_size = int(test_user_frac * len(user_ids))\n",
    "\n",
    "        user_ids = random.sample(user_ids, test_size)\n",
    "\n",
    "        self.test_samples = []\n",
    "\n",
    "        for uid in user_ids:\n",
    "            tid = random.choice(self.matrix[~self.matrix[uid].isna()].reset_index()['topic_id'])\n",
    "            val = self.matrix[uid][tid]\n",
    "            self.matrix[uid][tid] = np.nan\n",
    "            self.test_samples.append((uid, tid, val))\n",
    "\n",
    "\n",
    "   \n",
    "    def get_matrix(self):\n",
    "        return self.matrix\n",
    "\n",
    "    def get_test_samples(self):\n",
    "        return self.test_samples\n",
    "\n",
    "    # def get_test_dataset(self):\n",
    "    #     return ItemKNNDS(self.get_test_samples())\n"
   ]
  },
  {
   "cell_type": "code",
   "execution_count": 3,
   "metadata": {},
   "outputs": [],
   "source": [
    "from itemknn_model import ItemKNN\n",
    "\n",
    "splitter = ItemKNNSplitter(events)\n",
    "\n",
    "\n",
    "model = ItemKNN(5)\n",
    "model.train(splitter.get_matrix())\n",
    "\n"
   ]
  },
  {
   "cell_type": "code",
   "execution_count": 4,
   "metadata": {},
   "outputs": [],
   "source": [
    "for sample in splitter.test_samples:\n",
    "    model.test_step(sample)"
   ]
  },
  {
   "cell_type": "code",
   "execution_count": 5,
   "metadata": {},
   "outputs": [
    {
     "data": {
      "text/plain": [
       "tensor([ 1.5188e+01,  4.4845e+01, -9.5294e+00, -4.1922e+01,  3.0618e+01,\n",
       "        -2.2926e+01,  0.0000e+00,  0.0000e+00,  6.0454e+00, -3.6847e+01,\n",
       "         4.8257e+01,  0.0000e+00,  5.4167e-01,  2.1227e+01, -1.2461e+01,\n",
       "         1.3955e+01,         nan,  0.0000e+00, -6.7115e+00,  2.2637e+01,\n",
       "         0.0000e+00,  0.0000e+00, -2.8357e+01, -3.6490e+01,  0.0000e+00,\n",
       "         1.3991e+01,  2.6231e+01, -8.7333e+01,  0.0000e+00, -4.7397e+01,\n",
       "         1.8471e+01,  1.9567e+02,  0.0000e+00, -2.2926e+01,  1.8618e+02,\n",
       "        -1.7963e+01, -3.0377e+02,  1.7519e+02,  0.0000e+00, -3.0709e+01,\n",
       "         3.0722e+01,  1.3155e+02, -1.3396e+01, -3.8590e+01,  0.0000e+00,\n",
       "         9.4435e+00, -1.6532e+01,  3.1183e-01,  0.0000e+00,         nan,\n",
       "         0.0000e+00,  0.0000e+00, -2.4793e+01, -1.1022e+01,  0.0000e+00,\n",
       "        -2.3514e+01, -1.5504e+01,  1.3366e+01, -1.9124e+00, -1.4757e+01,\n",
       "        -4.3078e+01,  3.4401e+01,  0.0000e+00,  2.7196e+01,  0.0000e+00,\n",
       "        -3.9709e+01, -1.1693e+01, -1.2126e+03,  4.3433e+01,  0.0000e+00,\n",
       "         0.0000e+00,  2.7548e+02, -3.3096e+01, -3.9627e+01, -1.2843e+01,\n",
       "         0.0000e+00, -1.1920e+01, -7.8451e+00,  0.0000e+00,  0.0000e+00,\n",
       "         0.0000e+00,  0.0000e+00,  1.5724e+01, -4.1055e+01, -3.3074e+01,\n",
       "                nan, -5.6784e+01, -7.9685e+00, -2.1608e+00,  0.0000e+00,\n",
       "        -3.4357e+01,  0.0000e+00,  0.0000e+00,  0.0000e+00,         nan,\n",
       "        -7.0302e+01, -2.1926e+01,  0.0000e+00,  0.0000e+00,  5.6568e+01,\n",
       "        -2.9954e+01, -6.1282e+01,  0.0000e+00, -7.6341e+00, -1.7784e+01,\n",
       "        -2.2860e+01,  2.9369e+02,  0.0000e+00,  0.0000e+00],\n",
       "       dtype=torch.float64)"
      ]
     },
     "execution_count": 5,
     "metadata": {},
     "output_type": "execute_result"
    }
   ],
   "source": [
    "model.predict_proba"
   ]
  },
  {
   "cell_type": "code",
   "execution_count": 6,
   "metadata": {},
   "outputs": [],
   "source": [
    "import csv\n",
    "\n",
    "\n",
    "def get_predictions(data, probas):\n",
    "    return [(item[0], item[1], item[2], proba.item()) for item, proba in zip(data, probas)]\n",
    "\n",
    "\n",
    "def write_outputs(data, loss_logs, model_description, output_dir):\n",
    "    probas_output_path = f\"{output_dir}/{model_description}_probas.csv\"\n",
    "\n",
    "    with open(probas_output_path, 'w') as f:\n",
    "        csv_out = csv.writer(f)\n",
    "        csv_out.writerow(['user_id', 'topic_id', 'was_interaction', 'predict_proba'])\n",
    "\n",
    "        for row in data:\n",
    "            csv_out.writerow(row)\n",
    "\n",
    "    loss_outputs_path = f\"{output_dir}/{model_description}_loss.csv\"\n",
    "\n",
    "    with open(loss_outputs_path, 'w') as f:\n",
    "        csv_out = csv.writer(f)\n",
    "        csv_out.writerow(['loss_value', 'iteration'])\n",
    "        for idx, loss_value in enumerate(loss_logs, 1):\n",
    "            csv_out.writerow((loss_value, idx))"
   ]
  },
  {
   "cell_type": "code",
   "execution_count": 8,
   "metadata": {},
   "outputs": [],
   "source": [
    "write_outputs(get_predictions(splitter.test_samples, model.predict_proba), [], 'test', '.')"
   ]
  },
  {
   "cell_type": "code",
   "execution_count": null,
   "metadata": {},
   "outputs": [],
   "source": []
  }
 ],
 "metadata": {
  "kernelspec": {
   "display_name": "mlbd",
   "language": "python",
   "name": "python3"
  },
  "language_info": {
   "codemirror_mode": {
    "name": "ipython",
    "version": 3
   },
   "file_extension": ".py",
   "mimetype": "text/x-python",
   "name": "python",
   "nbconvert_exporter": "python",
   "pygments_lexer": "ipython3",
   "version": "3.10.9"
  },
  "orig_nbformat": 4
 },
 "nbformat": 4,
 "nbformat_minor": 2
}
