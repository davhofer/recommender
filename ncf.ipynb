{
 "cells": [
  {
   "cell_type": "code",
   "execution_count": 12,
   "metadata": {},
   "outputs": [],
   "source": [
    "# Import the tables of the data set as dataframes.\n",
    "import numpy as np\n",
    "import pandas as pd\n",
    "import matplotlib.pyplot as plt\n",
    "import seaborn as sns\n",
    "\n",
    "DATA_DIR = './../data' \n",
    "STUDY_DIR = DATA_DIR + '/study'\n",
    "\n",
    "\n",
    "users = pd.read_csv(f'{DATA_DIR}/users.csv.gz')\n",
    "\n",
    "# use study for less data, for testing\n",
    "events = pd.read_csv(f'{STUDY_DIR}/events.csv.gz')\n",
    "transactions = pd.read_csv(f'{STUDY_DIR}/transactions.csv.gz')"
   ]
  },
  {
   "cell_type": "code",
   "execution_count": 13,
   "metadata": {},
   "outputs": [],
   "source": [
    "#np.percentile(transactions['start_time'].total_seconds, 80)\n",
    "transactions = transactions[~transactions['topic_id'].isna()]\n",
    "transactions['topic_id'] = transactions['topic_id'].astype(int)\n",
    "\n",
    "# only keep users with at least 10 interactions\n",
    "transactions = transactions.groupby('user_id').filter(lambda x: len(x) >= 10)\n",
    "\n",
    "user_ids = list(transactions['user_id'].unique())\n",
    "topic_ids = list(transactions['topic_id'].unique())\n",
    "\n",
    "N = len(user_ids)\n",
    "M = len(topic_ids)\n",
    "\n",
    "\n",
    "# train test split\n",
    "transactions['start_time'] = pd.to_datetime(transactions['start_time'])\n",
    "\n",
    "cut = np.percentile(transactions['start_time'], 80)\n",
    "\n",
    "train_transactions = transactions[transactions['start_time'] < cut]\n",
    "test_transactions = transactions[transactions['start_time'] >= cut]"
   ]
  },
  {
   "cell_type": "code",
   "execution_count": 14,
   "metadata": {},
   "outputs": [],
   "source": [
    "import torch\n",
    "from torch.utils.data import Dataset\n",
    "import random\n",
    "\n",
    "class StudentsTopicsOneHot(Dataset):\n",
    "    def __init__(self, df, negative_frac=1.0):\n",
    "\n",
    "     \n",
    "        interactions = list(df.groupby(['user_id', 'topic_id']).count().index)\n",
    "\n",
    "        all_pairings = {(user, topic) for user in user_ids for topic in topic_ids}\n",
    "        positives = set(interactions)\n",
    "        no_interaction = all_pairings - positives\n",
    "        negatives = random.sample(list(no_interaction), int(negative_frac*len(positives)))\n",
    "\n",
    "        self.data = [(x[0], x[1], 1.0) for x in positives] + [(x[0], x[1], 0.0) for x in negatives]\n",
    "        \n",
    "\n",
    "    def __len__(self):\n",
    "        return len(self.data)\n",
    "\n",
    "    def __getitem__(self, index):\n",
    "        user, topic, y = self.data[index]\n",
    "\n",
    "        user = user_ids.index(user)\n",
    "        user = torch.tensor(user)\n",
    "\n",
    "        topic = topic_ids.index(topic)\n",
    "        topic = torch.tensor(topic)\n",
    "\n",
    "        y = torch.tensor([y])\n",
    "        return user, topic, y\n",
    "\n",
    "\n",
    "train_dataset = StudentsTopicsOneHot(train_transactions)\n",
    "train_dataloader = torch.utils.data.DataLoader(train_dataset, batch_size=5, shuffle=True)\n",
    "\n",
    "test_dataset = StudentsTopicsOneHot(test_transactions)\n",
    "test_dataloader = torch.utils.data.DataLoader(test_dataset, batch_size=5, shuffle=True)\n"
   ]
  },
  {
   "cell_type": "code",
   "execution_count": 15,
   "metadata": {},
   "outputs": [],
   "source": [
    "import os\n",
    "import torch\n",
    "from torch import optim, nn\n",
    "import lightning.pytorch as pl\n",
    "\n",
    "\n",
    "# TODO: fill these\n",
    "num_students = N\n",
    "num_topics = M\n",
    "\n",
    "student_embedding_dim = 32\n",
    "topic_embedding_dim = 32\n",
    "\n",
    "\n",
    "class NCFNetwork(pl.LightningModule):\n",
    "    def __init__(self, num_students, num_topics, student_embedding_dim, topic_embedding_dim):\n",
    "        super().__init__()\n",
    "        self.student_embedding_layer = nn.Embedding(num_students, student_embedding_dim)\n",
    "        self.topic_embedding_layer = nn.Embedding(num_topics, topic_embedding_dim)\n",
    "        \n",
    "        self.network = nn.Sequential(\n",
    "            nn.Linear(student_embedding_dim+topic_embedding_dim, 32),\n",
    "            nn.ReLU(),\n",
    "            nn.Linear(32, 16),\n",
    "            nn.ReLU(),\n",
    "            nn.Linear(16, 8),\n",
    "            nn.ReLU(),\n",
    "            nn.Linear(8, 1),\n",
    "            nn.Sigmoid(),\n",
    "        )\n",
    "\n",
    "        self.loss = nn.BCELoss()\n",
    "\n",
    "        self.save_hyperparameters()\n",
    "        \n",
    "        #self.valid_accuracy = Accuracy()\n",
    "        #self.test_accuracy = Accuracy()\n",
    "\n",
    "    def training_step(self, batch, batch_idx):\n",
    "        # training_step defines the train loop.\n",
    "        # it is independent of forward\n",
    "        student_x, topic_x, y = batch\n",
    "\n",
    "        student_emb = self.student_embedding_layer(student_x)\n",
    "        topic_emb = self.topic_embedding_layer(topic_x)\n",
    "\n",
    "        x = torch.cat((student_emb, topic_emb), 1)\n",
    "\n",
    "\n",
    "        y_pred = self.network(x)\n",
    "        \n",
    "        loss = self.loss(y_pred, y)\n",
    "        # Logging to TensorBoard (if installed) by default\n",
    "        self.log(\"train_loss\", loss)\n",
    "        return loss\n",
    "\n",
    "    def configure_optimizers(self):\n",
    "        optimizer = optim.Adam(self.parameters(), lr=1e-3)\n",
    "        return optimizer\n",
    "\n",
    "\n",
    "# init\n",
    "ncf = NCFNetwork(num_students, num_topics, student_embedding_dim, topic_embedding_dim)"
   ]
  },
  {
   "cell_type": "code",
   "execution_count": 16,
   "metadata": {},
   "outputs": [
    {
     "name": "stderr",
     "output_type": "stream",
     "text": [
      "GPU available: False, used: False\n",
      "TPU available: False, using: 0 TPU cores\n",
      "IPU available: False, using: 0 IPUs\n",
      "HPU available: False, using: 0 HPUs\n",
      "\n",
      "  | Name                    | Type       | Params\n",
      "-------------------------------------------------------\n",
      "0 | student_embedding_layer | Embedding  | 5.3 K \n",
      "1 | topic_embedding_layer   | Embedding  | 1.6 K \n",
      "2 | network                 | Sequential | 2.8 K \n",
      "3 | loss                    | BCELoss    | 0     \n",
      "-------------------------------------------------------\n",
      "9.7 K     Trainable params\n",
      "0         Non-trainable params\n",
      "9.7 K     Total params\n",
      "0.039     Total estimated model params size (MB)\n",
      "/home/david/anaconda3/envs/mlbd/lib/python3.10/site-packages/lightning/pytorch/trainer/connectors/data_connector.py:430: PossibleUserWarning: The dataloader, train_dataloader, does not have many workers which may be a bottleneck. Consider increasing the value of the `num_workers` argument` (try 8 which is the number of cpus on this machine) in the `DataLoader` init to improve performance.\n",
      "  rank_zero_warn(\n"
     ]
    },
    {
     "data": {
      "application/vnd.jupyter.widget-view+json": {
       "model_id": "0637af2099964ab6b2511b747e7cce93",
       "version_major": 2,
       "version_minor": 0
      },
      "text/plain": [
       "Training: 0it [00:00, ?it/s]"
      ]
     },
     "metadata": {},
     "output_type": "display_data"
    },
    {
     "name": "stderr",
     "output_type": "stream",
     "text": [
      "`Trainer.fit` stopped: `max_epochs=10` reached.\n"
     ]
    }
   ],
   "source": [
    "trainer = pl.Trainer(max_epochs=10)\n",
    "trainer.fit(model=ncf, train_dataloaders=train_dataloader)"
   ]
  },
  {
   "cell_type": "code",
   "execution_count": null,
   "metadata": {},
   "outputs": [],
   "source": []
  }
 ],
 "metadata": {
  "kernelspec": {
   "display_name": "mlbd",
   "language": "python",
   "name": "python3"
  },
  "language_info": {
   "codemirror_mode": {
    "name": "ipython",
    "version": 3
   },
   "file_extension": ".py",
   "mimetype": "text/x-python",
   "name": "python",
   "nbconvert_exporter": "python",
   "pygments_lexer": "ipython3",
   "version": "3.10.9"
  },
  "orig_nbformat": 4
 },
 "nbformat": 4,
 "nbformat_minor": 2
}
