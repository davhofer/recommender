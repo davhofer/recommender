{
 "cells": [
  {
   "cell_type": "code",
   "execution_count": 25,
   "metadata": {},
   "outputs": [],
   "source": [
    "# Import the tables of the data set as dataframes.\n",
    "import numpy as np\n",
    "import pandas as pd\n",
    "import matplotlib.pyplot as plt\n",
    "import seaborn as sns\n",
    "\n",
    "DATA_DIR = './../data' \n",
    "STUDY_DIR = DATA_DIR + '/study'\n",
    "\n",
    "\n",
    "users = pd.read_csv(f'{DATA_DIR}/users.csv.gz')\n",
    "\n",
    "# use study for less data, for testing\n",
    "events = pd.read_csv(f'{STUDY_DIR}/events.csv.gz')\n",
    "transactions = pd.read_csv(f'{STUDY_DIR}/transactions.csv.gz')"
   ]
  },
  {
   "cell_type": "code",
   "execution_count": 26,
   "metadata": {},
   "outputs": [],
   "source": []
  },
  {
   "cell_type": "code",
   "execution_count": 27,
   "metadata": {},
   "outputs": [],
   "source": [
    "from data import preprocess_transactions, get_transactions_dataloader\n",
    "\n",
    "train_transactions, test_transactions, user_ids, topic_ids = preprocess_transactions(transactions)\n",
    "\n",
    "train_dataloader = get_transactions_dataloader(train_transactions, 256)\n",
    "\n",
    "test_dataloader = get_transactions_dataloader(test_transactions, 256)\n"
   ]
  },
  {
   "cell_type": "code",
   "execution_count": 28,
   "metadata": {},
   "outputs": [
    {
     "name": "stderr",
     "output_type": "stream",
     "text": [
      "/home/david/anaconda3/envs/mlbd/lib/python3.10/site-packages/lightning/pytorch/utilities/parsing.py:197: UserWarning: Attribute 'loss' is an instance of `nn.Module` and is already saved during checkpointing. It is recommended to ignore them using `self.save_hyperparameters(ignore=['loss'])`.\n",
      "  rank_zero_warn(\n"
     ]
    }
   ],
   "source": [
    "import os\n",
    "import torch\n",
    "from torch import optim, nn\n",
    "import lightning.pytorch as pl\n",
    "from ncf_model import NCFNetwork\n",
    "\n",
    "\n",
    "# TODO: fill these\n",
    "num_students = len(user_ids)\n",
    "num_topics = len(topic_ids)\n",
    "\n",
    "student_embedding_dim = 32\n",
    "topic_embedding_dim = 32\n",
    "\n",
    "\n",
    "# init\n",
    "ncf = NCFNetwork(num_students, num_topics, student_embedding_dim, topic_embedding_dim)"
   ]
  },
  {
   "cell_type": "code",
   "execution_count": 29,
   "metadata": {},
   "outputs": [
    {
     "name": "stderr",
     "output_type": "stream",
     "text": [
      "GPU available: False, used: False\n",
      "TPU available: False, using: 0 TPU cores\n",
      "IPU available: False, using: 0 IPUs\n",
      "HPU available: False, using: 0 HPUs\n",
      "\n",
      "  | Name                    | Type       | Params\n",
      "-------------------------------------------------------\n",
      "0 | student_embedding_layer | Embedding  | 5.3 K \n",
      "1 | topic_embedding_layer   | Embedding  | 1.6 K \n",
      "2 | network                 | Sequential | 2.8 K \n",
      "3 | loss                    | BCELoss    | 0     \n",
      "-------------------------------------------------------\n",
      "9.7 K     Trainable params\n",
      "0         Non-trainable params\n",
      "9.7 K     Total params\n",
      "0.039     Total estimated model params size (MB)\n",
      "/home/david/anaconda3/envs/mlbd/lib/python3.10/site-packages/lightning/pytorch/trainer/connectors/data_connector.py:430: PossibleUserWarning: The dataloader, train_dataloader, does not have many workers which may be a bottleneck. Consider increasing the value of the `num_workers` argument` (try 8 which is the number of cpus on this machine) in the `DataLoader` init to improve performance.\n",
      "  rank_zero_warn(\n"
     ]
    },
    {
     "data": {
      "application/vnd.jupyter.widget-view+json": {
       "model_id": "433dd239dacb4abe92300f3739ff630e",
       "version_major": 2,
       "version_minor": 0
      },
      "text/plain": [
       "Training: 0it [00:00, ?it/s]"
      ]
     },
     "metadata": {},
     "output_type": "display_data"
    },
    {
     "name": "stderr",
     "output_type": "stream",
     "text": [
      "`Trainer.fit` stopped: `max_epochs=10` reached.\n"
     ]
    }
   ],
   "source": [
    "trainer = pl.Trainer(max_epochs=10)\n",
    "trainer.fit(model=ncf, train_dataloaders=train_dataloader)"
   ]
  },
  {
   "cell_type": "code",
   "execution_count": null,
   "metadata": {},
   "outputs": [],
   "source": []
  }
 ],
 "metadata": {
  "kernelspec": {
   "display_name": "mlbd",
   "language": "python",
   "name": "python3"
  },
  "language_info": {
   "codemirror_mode": {
    "name": "ipython",
    "version": 3
   },
   "file_extension": ".py",
   "mimetype": "text/x-python",
   "name": "python",
   "nbconvert_exporter": "python",
   "pygments_lexer": "ipython3",
   "version": "3.10.9"
  },
  "orig_nbformat": 4
 },
 "nbformat": 4,
 "nbformat_minor": 2
}
